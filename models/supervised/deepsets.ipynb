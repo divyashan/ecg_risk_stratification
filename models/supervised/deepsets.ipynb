{
 "cells": [
  {
   "cell_type": "code",
   "execution_count": 98,
   "metadata": {},
   "outputs": [
    {
     "name": "stdout",
     "output_type": "stream",
     "text": [
      "The autoreload extension is already loaded. To reload it, use:\n",
      "  %reload_ext autoreload\n",
      "Using GPU:3 with 0% of the memory\n"
     ]
    }
   ],
   "source": [
    "%load_ext autoreload\n",
    "%autoreload 2\n",
    "import os\n",
    "import sys\n",
    "import h5py\n",
    "import pdb\n",
    "import numpy as np\n",
    "import matplotlib.pyplot as plt\n",
    "import pandas as pd\n",
    "\n",
    "from sklearn.metrics import roc_auc_score\n",
    "from keras.optimizers import Adam\n",
    "\n",
    "sys.path.insert(0, '../../../')\n",
    "from ecg_AAAI.models.supervised.ecg_fc import build_fc_model\n",
    "from ecg_AAAI.models.gpu_utils import restrict_GPU_keras\n",
    "from ecg_AAAI.models.supervised.eval import evaluate_AUC, evaluate_HR, risk_scores\n",
    "from ecg_AAAI.models.supervised.ablation_helpers import *\n",
    "from ecg_AAAI.models.supervised.deepsets_model import create_phi, create_rho\n",
    "restrict_GPU_keras(\"3\")\n",
    "\n",
    "split_dir_prefix = \"/home/divyas/ecg_AAAI/datasets/splits/split_\"\n",
    "model_name = \"deepset\"\n",
    "\n",
    "y_mode = \"cvd\"\n",
    "n_fc_units = 2\n",
    "split_num = [\"0\"]\n",
    "batch_size = 60\n",
    "day_thresh = 90\n",
    "input_dim = 256\n",
    "train_file = None\n",
    "test_file = None"
   ]
  },
  {
   "cell_type": "code",
   "execution_count": 118,
   "metadata": {},
   "outputs": [],
   "source": [
    "n_sets = 3000 # training set size\n",
    "n_members = 3 # first 1000 beats\n",
    "member_dim = 256 # two adjacent beat pairs\n",
    "\n",
    "set_dims = (n_members, member_dim)\n",
    "member_dims = (member_dim,1)\n",
    "\n",
    "phi = create_phi(member_dims)\n",
    "rho = create_rho(member_dims, phi, n_members)\n",
    "adam = Adam(lr=0.01, beta_1=0.9, beta_2=0.999, epsilon=None, decay=0.0, amsgrad=False)\n",
    "\n",
    "rho.compile(optimizer=adam, loss='mean_squared_error', metrics=['accuracy'])"
   ]
  },
  {
   "cell_type": "code",
   "execution_count": 119,
   "metadata": {},
   "outputs": [
    {
     "name": "stdout",
     "output_type": "stream",
     "text": [
      "__________________________________________________________________________________________________\n",
      "Layer (type)                    Output Shape         Param #     Connected to                     \n",
      "==================================================================================================\n",
      "input_31 (InputLayer)           (None, 256, 1)       0                                            \n",
      "__________________________________________________________________________________________________\n",
      "input_32 (InputLayer)           (None, 256, 1)       0                                            \n",
      "__________________________________________________________________________________________________\n",
      "input_33 (InputLayer)           (None, 256, 1)       0                                            \n",
      "__________________________________________________________________________________________________\n",
      "model_11 (Model)                (None, 2)            1030        input_31[0][0]                   \n",
      "                                                                 input_32[0][0]                   \n",
      "                                                                 input_33[0][0]                   \n",
      "__________________________________________________________________________________________________\n",
      "add_11 (Add)                    (None, 2)            0           model_11[1][0]                   \n",
      "                                                                 model_11[2][0]                   \n",
      "                                                                 model_11[3][0]                   \n",
      "__________________________________________________________________________________________________\n",
      "dense_22 (Dense)                (None, 1)            3           add_11[0][0]                     \n",
      "==================================================================================================\n",
      "Total params: 1,033\n",
      "Trainable params: 1,033\n",
      "Non-trainable params: 0\n",
      "__________________________________________________________________________________________________\n"
     ]
    }
   ],
   "source": [
    "rho.summary()"
   ]
  },
  {
   "cell_type": "markdown",
   "metadata": {},
   "source": [
    "# Data"
   ]
  },
  {
   "cell_type": "code",
   "execution_count": 120,
   "metadata": {},
   "outputs": [
    {
     "name": "stdout",
     "output_type": "stream",
     "text": [
      "Opened file\n",
      "Loaded labels\n",
      "N blocks:  3\n",
      "N batches:  20\n"
     ]
    }
   ],
   "source": [
    "n_results = 3\n",
    "n_beats = 3\n",
    "result_dicts = []\n",
    "block_size = 1500\n",
    "split_num = \"0\"\n",
    "if train_file:\n",
    "    train_file.close()\n",
    "    test_file.close()\n",
    "split_dir = split_dir_prefix + split_num\n",
    "\n",
    "train_file = h5py.File(split_dir + \"/train.h5\", \"r\")\n",
    "test_file = h5py.File(split_dir + \"/test.h5\", \"r\")\n",
    "print(\"Opened file\")\n",
    "train_y = get_labels(train_file, y_mode, day_thresh)\n",
    "test_y = get_labels(test_file, y_mode, day_thresh)\n",
    "print(\"Loaded labels\")\n",
    "train_pos_idxs = np.where(train_y == 1)[0]\n",
    "x_train_pos = train_file['adjacent_beats'][list(train_pos_idxs),:n_beats]\n",
    "y_train_pos = train_file[y_mode + '_labels'][list(train_pos_idxs)]\n",
    "y_train_pos = thresh_labels(y_train_pos, day_thresh)\n",
    "#y_train_pos = np.array([[y_val]*n_beats for y_val in y_train_pos]).flatten()\n",
    "\n",
    "n_train_pos = len(train_pos_idxs)\n",
    "batch_size = n_train_pos\n",
    "n_batches = int(block_size/batch_size + 1)\n",
    "n_blocks = int(len(train_y)/block_size + 1)\n",
    "print(\"N blocks: \", n_blocks)\n",
    "print(\"N batches: \", n_batches)"
   ]
  },
  {
   "cell_type": "markdown",
   "metadata": {},
   "source": [
    "# Training"
   ]
  },
  {
   "cell_type": "code",
   "execution_count": 121,
   "metadata": {},
   "outputs": [
    {
     "name": "stdout",
     "output_type": "stream",
     "text": [
      "Finished round:  0\n",
      "Finished loading Block # 0\n",
      "Finished loading Block # 1\n",
      "Finished loading Block # 2\n",
      "Finished round:  1\n",
      "Finished loading Block # 0\n",
      "Finished loading Block # 1\n",
      "Finished loading Block # 2\n",
      "Finished round:  2\n",
      "Finished loading Block # 0\n",
      "Finished loading Block # 1\n",
      "Finished loading Block # 2\n"
     ]
    }
   ],
   "source": [
    "for i in range(n_results):\n",
    "    print(\"Finished round: \", i)\n",
    "    for j in range(n_blocks):\n",
    "        # Load 1000 patients into memory at a time\n",
    "        x_train_block, y_train_block = get_block(train_file, j, block_size, \n",
    "                                                 y_mode, day_thresh, n_beats = n_beats)\n",
    "        print(\"Finished loading Block #\", j)\n",
    "        for k in range(n_batches):\n",
    "            x_train_neg, y_train_neg = get_block_batch_deepsets(x_train_block, y_train_block, \n",
    "                                                       batch_size, k, n_beats=n_beats) \n",
    "            x_train_batch = np.concatenate([x_train_neg, x_train_pos])\n",
    "            y_train_batch = np.concatenate([y_train_neg, y_train_pos])\n",
    "            swapped = np.swapaxes(x_train_batch, 0, 1)\n",
    "            swapped = np.expand_dims(swapped, 3)\n",
    "            rho_input = [x for x in swapped]\n",
    "            rho.fit(x=rho_input, y=y_train_batch, epochs=1, \n",
    "                  verbose=False, batch_size=80000)\n"
   ]
  },
  {
   "cell_type": "markdown",
   "metadata": {},
   "source": [
    "# Evaluation"
   ]
  },
  {
   "cell_type": "code",
   "execution_count": 85,
   "metadata": {},
   "outputs": [],
   "source": [
    "py_pred = []\n",
    "x_test = test_file['adjacent_beats'][:,:n_beats]\n",
    "y_test = test_file[y_mode + '_labels'][:]\n",
    "y_test = thresh_labels(y_test, day_thresh)\n",
    "\n",
    "if len(y_test) != x_test.shape[0]:\n",
    "    dim = min(len(y_test), x_test.shape[0])\n",
    "    x_test = x_test[:dim]\n",
    "    y_test = y_test[:dim]"
   ]
  },
  {
   "cell_type": "code",
   "execution_count": 87,
   "metadata": {},
   "outputs": [],
   "source": [
    "swapped = np.swapaxes(x_test, 0, 1)\n",
    "swapped = np.expand_dims(swapped, 3)\n",
    "rho_test_input = [x for x in swapped]"
   ]
  },
  {
   "cell_type": "code",
   "execution_count": 88,
   "metadata": {},
   "outputs": [
    {
     "data": {
      "text/plain": [
       "(3, (1247, 256, 1), (1247,))"
      ]
     },
     "execution_count": 88,
     "metadata": {},
     "output_type": "execute_result"
    }
   ],
   "source": [
    "\n",
    "len(rho_test_input), rho_test_input[0].shape, y_test.shape"
   ]
  },
  {
   "cell_type": "code",
   "execution_count": 122,
   "metadata": {},
   "outputs": [],
   "source": [
    "y_preds = rho.predict(rho_test_input)"
   ]
  },
  {
   "cell_type": "code",
   "execution_count": 123,
   "metadata": {},
   "outputs": [
    {
     "data": {
      "text/plain": [
       "0.6698699167936248"
      ]
     },
     "execution_count": 123,
     "metadata": {},
     "output_type": "execute_result"
    }
   ],
   "source": [
    "roc_auc_score(y_test, y_preds)"
   ]
  },
  {
   "cell_type": "code",
   "execution_count": null,
   "metadata": {},
   "outputs": [],
   "source": []
  }
 ],
 "metadata": {
  "kernelspec": {
   "display_name": "Python 3",
   "language": "python",
   "name": "python3"
  },
  "language_info": {
   "codemirror_mode": {
    "name": "ipython",
    "version": 3
   },
   "file_extension": ".py",
   "mimetype": "text/x-python",
   "name": "python",
   "nbconvert_exporter": "python",
   "pygments_lexer": "ipython3",
   "version": "3.6.8"
  }
 },
 "nbformat": 4,
 "nbformat_minor": 2
}
